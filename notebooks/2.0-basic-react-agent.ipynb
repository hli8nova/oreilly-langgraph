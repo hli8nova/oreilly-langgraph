{
 "cells": [
  {
   "cell_type": "code",
   "execution_count": 2,
   "metadata": {
    "collapsed": true,
    "jupyter": {
     "outputs_hidden": true
    },
    "scrolled": true
   },
   "outputs": [
    {
     "name": "stdout",
     "output_type": "stream",
     "text": [
      "Requirement already satisfied: langchain in /home/will/miniconda3/envs/oreilly-langgraph/lib/python3.11/site-packages (0.3.7)\n",
      "Collecting duckduckgo-search\n",
      "  Downloading duckduckgo_search-7.4.2-py3-none-any.whl.metadata (17 kB)\n",
      "Requirement already satisfied: PyYAML>=5.3 in /home/will/miniconda3/envs/oreilly-langgraph/lib/python3.11/site-packages (from langchain) (6.0.2)\n",
      "Requirement already satisfied: SQLAlchemy<3,>=1.4 in /home/will/miniconda3/envs/oreilly-langgraph/lib/python3.11/site-packages (from langchain) (2.0.35)\n",
      "Requirement already satisfied: aiohttp<4.0.0,>=3.8.3 in /home/will/miniconda3/envs/oreilly-langgraph/lib/python3.11/site-packages (from langchain) (3.10.10)\n",
      "Requirement already satisfied: langchain-core<0.4.0,>=0.3.15 in /home/will/miniconda3/envs/oreilly-langgraph/lib/python3.11/site-packages (from langchain) (0.3.15)\n",
      "Requirement already satisfied: langchain-text-splitters<0.4.0,>=0.3.0 in /home/will/miniconda3/envs/oreilly-langgraph/lib/python3.11/site-packages (from langchain) (0.3.2)\n",
      "Requirement already satisfied: langsmith<0.2.0,>=0.1.17 in /home/will/miniconda3/envs/oreilly-langgraph/lib/python3.11/site-packages (from langchain) (0.1.140)\n",
      "Requirement already satisfied: numpy<2,>=1 in /home/will/miniconda3/envs/oreilly-langgraph/lib/python3.11/site-packages (from langchain) (1.26.4)\n",
      "Requirement already satisfied: pydantic<3.0.0,>=2.7.4 in /home/will/miniconda3/envs/oreilly-langgraph/lib/python3.11/site-packages (from langchain) (2.10.6)\n",
      "Requirement already satisfied: requests<3,>=2 in /home/will/miniconda3/envs/oreilly-langgraph/lib/python3.11/site-packages (from langchain) (2.32.3)\n",
      "Requirement already satisfied: tenacity!=8.4.0,<10,>=8.1.0 in /home/will/miniconda3/envs/oreilly-langgraph/lib/python3.11/site-packages (from langchain) (9.0.0)\n",
      "Collecting click>=8.1.8 (from duckduckgo-search)\n",
      "  Using cached click-8.1.8-py3-none-any.whl.metadata (2.3 kB)\n",
      "Collecting httpx>=0.28.1 (from httpx[brotli,http2,socks]>=0.28.1->duckduckgo-search)\n",
      "  Using cached httpx-0.28.1-py3-none-any.whl.metadata (7.1 kB)\n",
      "Collecting lxml>=5.3.0 (from duckduckgo-search)\n",
      "  Using cached lxml-5.3.1-cp311-cp311-manylinux_2_28_x86_64.whl.metadata (3.7 kB)\n",
      "Requirement already satisfied: aiohappyeyeballs>=2.3.0 in /home/will/miniconda3/envs/oreilly-langgraph/lib/python3.11/site-packages (from aiohttp<4.0.0,>=3.8.3->langchain) (2.4.3)\n",
      "Requirement already satisfied: aiosignal>=1.1.2 in /home/will/miniconda3/envs/oreilly-langgraph/lib/python3.11/site-packages (from aiohttp<4.0.0,>=3.8.3->langchain) (1.3.1)\n",
      "Requirement already satisfied: attrs>=17.3.0 in /home/will/miniconda3/envs/oreilly-langgraph/lib/python3.11/site-packages (from aiohttp<4.0.0,>=3.8.3->langchain) (24.2.0)\n",
      "Requirement already satisfied: frozenlist>=1.1.1 in /home/will/miniconda3/envs/oreilly-langgraph/lib/python3.11/site-packages (from aiohttp<4.0.0,>=3.8.3->langchain) (1.5.0)\n",
      "Requirement already satisfied: multidict<7.0,>=4.5 in /home/will/miniconda3/envs/oreilly-langgraph/lib/python3.11/site-packages (from aiohttp<4.0.0,>=3.8.3->langchain) (6.1.0)\n",
      "Requirement already satisfied: yarl<2.0,>=1.12.0 in /home/will/miniconda3/envs/oreilly-langgraph/lib/python3.11/site-packages (from aiohttp<4.0.0,>=3.8.3->langchain) (1.17.1)\n",
      "Requirement already satisfied: anyio in /home/will/miniconda3/envs/oreilly-langgraph/lib/python3.11/site-packages (from httpx>=0.28.1->httpx[brotli,http2,socks]>=0.28.1->duckduckgo-search) (4.8.0)\n",
      "Requirement already satisfied: certifi in /home/will/miniconda3/envs/oreilly-langgraph/lib/python3.11/site-packages (from httpx>=0.28.1->httpx[brotli,http2,socks]>=0.28.1->duckduckgo-search) (2025.1.31)\n",
      "Requirement already satisfied: httpcore==1.* in /home/will/miniconda3/envs/oreilly-langgraph/lib/python3.11/site-packages (from httpx>=0.28.1->httpx[brotli,http2,socks]>=0.28.1->duckduckgo-search) (1.0.7)\n",
      "Requirement already satisfied: idna in /home/will/miniconda3/envs/oreilly-langgraph/lib/python3.11/site-packages (from httpx>=0.28.1->httpx[brotli,http2,socks]>=0.28.1->duckduckgo-search) (3.10)\n",
      "Requirement already satisfied: h11<0.15,>=0.13 in /home/will/miniconda3/envs/oreilly-langgraph/lib/python3.11/site-packages (from httpcore==1.*->httpx>=0.28.1->httpx[brotli,http2,socks]>=0.28.1->duckduckgo-search) (0.14.0)\n",
      "Requirement already satisfied: brotli in /home/will/miniconda3/envs/oreilly-langgraph/lib/python3.11/site-packages (from httpx[brotli,http2,socks]>=0.28.1->duckduckgo-search) (1.0.9)\n",
      "Requirement already satisfied: h2<5,>=3 in /home/will/miniconda3/envs/oreilly-langgraph/lib/python3.11/site-packages (from httpx[brotli,http2,socks]>=0.28.1->duckduckgo-search) (4.2.0)\n",
      "Collecting socksio==1.* (from httpx[brotli,http2,socks]>=0.28.1->duckduckgo-search)\n",
      "  Downloading socksio-1.0.0-py3-none-any.whl.metadata (6.1 kB)\n",
      "Requirement already satisfied: jsonpatch<2.0,>=1.33 in /home/will/miniconda3/envs/oreilly-langgraph/lib/python3.11/site-packages (from langchain-core<0.4.0,>=0.3.15->langchain) (1.33)\n",
      "Requirement already satisfied: packaging<25,>=23.2 in /home/will/miniconda3/envs/oreilly-langgraph/lib/python3.11/site-packages (from langchain-core<0.4.0,>=0.3.15->langchain) (24.1)\n",
      "Requirement already satisfied: typing-extensions>=4.7 in /home/will/miniconda3/envs/oreilly-langgraph/lib/python3.11/site-packages (from langchain-core<0.4.0,>=0.3.15->langchain) (4.12.2)\n",
      "Requirement already satisfied: orjson<4.0.0,>=3.9.14 in /home/will/miniconda3/envs/oreilly-langgraph/lib/python3.11/site-packages (from langsmith<0.2.0,>=0.1.17->langchain) (3.10.11)\n",
      "Requirement already satisfied: requests-toolbelt<2.0.0,>=1.0.0 in /home/will/miniconda3/envs/oreilly-langgraph/lib/python3.11/site-packages (from langsmith<0.2.0,>=0.1.17->langchain) (1.0.0)\n",
      "Requirement already satisfied: annotated-types>=0.6.0 in /home/will/miniconda3/envs/oreilly-langgraph/lib/python3.11/site-packages (from pydantic<3.0.0,>=2.7.4->langchain) (0.7.0)\n",
      "Requirement already satisfied: pydantic-core==2.27.2 in /home/will/miniconda3/envs/oreilly-langgraph/lib/python3.11/site-packages (from pydantic<3.0.0,>=2.7.4->langchain) (2.27.2)\n",
      "Requirement already satisfied: charset_normalizer<4,>=2 in /home/will/miniconda3/envs/oreilly-langgraph/lib/python3.11/site-packages (from requests<3,>=2->langchain) (3.4.1)\n",
      "Requirement already satisfied: urllib3<3,>=1.21.1 in /home/will/miniconda3/envs/oreilly-langgraph/lib/python3.11/site-packages (from requests<3,>=2->langchain) (2.2.3)\n",
      "Requirement already satisfied: greenlet!=0.4.17 in /home/will/miniconda3/envs/oreilly-langgraph/lib/python3.11/site-packages (from SQLAlchemy<3,>=1.4->langchain) (3.1.1)\n",
      "Requirement already satisfied: hyperframe<7,>=6.1 in /home/will/miniconda3/envs/oreilly-langgraph/lib/python3.11/site-packages (from h2<5,>=3->httpx[brotli,http2,socks]>=0.28.1->duckduckgo-search) (6.1.0)\n",
      "Requirement already satisfied: hpack<5,>=4.1 in /home/will/miniconda3/envs/oreilly-langgraph/lib/python3.11/site-packages (from h2<5,>=3->httpx[brotli,http2,socks]>=0.28.1->duckduckgo-search) (4.1.0)\n",
      "Requirement already satisfied: jsonpointer>=1.9 in /home/will/miniconda3/envs/oreilly-langgraph/lib/python3.11/site-packages (from jsonpatch<2.0,>=1.33->langchain-core<0.4.0,>=0.3.15->langchain) (2.0)\n",
      "Requirement already satisfied: propcache>=0.2.0 in /home/will/miniconda3/envs/oreilly-langgraph/lib/python3.11/site-packages (from yarl<2.0,>=1.12.0->aiohttp<4.0.0,>=3.8.3->langchain) (0.2.0)\n",
      "Requirement already satisfied: sniffio>=1.1 in /home/will/miniconda3/envs/oreilly-langgraph/lib/python3.11/site-packages (from anyio->httpx>=0.28.1->httpx[brotli,http2,socks]>=0.28.1->duckduckgo-search) (1.3.1)\n",
      "Downloading duckduckgo_search-7.4.2-py3-none-any.whl (34 kB)\n",
      "Using cached click-8.1.8-py3-none-any.whl (98 kB)\n",
      "Using cached httpx-0.28.1-py3-none-any.whl (73 kB)\n",
      "Downloading socksio-1.0.0-py3-none-any.whl (12 kB)\n",
      "Using cached lxml-5.3.1-cp311-cp311-manylinux_2_28_x86_64.whl (5.0 MB)\n",
      "Installing collected packages: socksio, lxml, click, httpx, duckduckgo-search\n",
      "  Attempting uninstall: click\n",
      "    Found existing installation: click 8.1.7\n",
      "    Uninstalling click-8.1.7:\n",
      "      Successfully uninstalled click-8.1.7\n",
      "  Attempting uninstall: httpx\n",
      "    Found existing installation: httpx 0.27.2\n",
      "    Uninstalling httpx-0.27.2:\n",
      "      Successfully uninstalled httpx-0.27.2\n",
      "\u001b[31mERROR: pip's dependency resolver does not currently take into account all the packages that are installed. This behaviour is the source of the following dependency conflicts.\n",
      "ollama 0.3.3 requires httpx<0.28.0,>=0.27.0, but you have httpx 0.28.1 which is incompatible.\u001b[0m\u001b[31m\n",
      "\u001b[0mSuccessfully installed click-8.1.8 duckduckgo-search-7.4.2 httpx-0.28.1 lxml-5.3.1 socksio-1.0.0\n"
     ]
    }
   ],
   "source": [
    "!pip install langchain duckduckgo-search"
   ]
  },
  {
   "cell_type": "code",
   "execution_count": 30,
   "metadata": {},
   "outputs": [],
   "source": [
    "import os\n",
    "import getpass\n",
    "\n",
    "def _set_env(var: str):\n",
    "    if not os.environ.get(var):\n",
    "        os.environ[var] = getpass.getpass(f\"var: \")\n",
    "\n",
    "_set_env(\"OPENAI_API_KEY\")\n",
    "_set_env(\"TAVILY_API_KEY\")"
   ]
  },
  {
   "cell_type": "code",
   "execution_count": 1,
   "metadata": {},
   "outputs": [
    {
     "name": "stdout",
     "output_type": "stream",
     "text": [
      "False\n"
     ]
    }
   ],
   "source": [
    "import os\n",
    "from dotenv import load_dotenv\n",
    "from openai import OpenAI\n",
    "\n",
    "#load env variables from .env file\n",
    "load_dotenv()\n",
    "openai_key = os.getenv(\"OPENAI_API_KEY\")\n",
    "print(openai_key == None)\n"
   ]
  },
  {
   "cell_type": "code",
   "execution_count": 5,
   "metadata": {},
   "outputs": [
    {
     "ename": "ImportError",
     "evalue": "cannot import name 'ddg' from 'duckduckgo_search' (/home/will/miniconda3/envs/oreilly-langgraph/lib/python3.11/site-packages/duckduckgo_search/__init__.py)",
     "output_type": "error",
     "traceback": [
      "\u001b[0;31m---------------------------------------------------------------------------\u001b[0m",
      "\u001b[0;31mImportError\u001b[0m                               Traceback (most recent call last)",
      "Cell \u001b[0;32mIn[5], line 1\u001b[0m\n\u001b[0;32m----> 1\u001b[0m \u001b[38;5;28;01mfrom\u001b[39;00m\u001b[38;5;250m \u001b[39m\u001b[38;5;21;01mduckduckgo_search\u001b[39;00m\u001b[38;5;250m \u001b[39m\u001b[38;5;28;01mimport\u001b[39;00m ddg\n\u001b[1;32m      2\u001b[0m \u001b[38;5;28;01mdef\u001b[39;00m\u001b[38;5;250m \u001b[39m\u001b[38;5;21msearch_duckduckgo\u001b[39m(query, max_results\u001b[38;5;241m=\u001b[39m\u001b[38;5;241m5\u001b[39m):\n\u001b[1;32m      3\u001b[0m     results \u001b[38;5;241m=\u001b[39m ddg(query, max_results\u001b[38;5;241m=\u001b[39mmax_results)\n",
      "\u001b[0;31mImportError\u001b[0m: cannot import name 'ddg' from 'duckduckgo_search' (/home/will/miniconda3/envs/oreilly-langgraph/lib/python3.11/site-packages/duckduckgo_search/__init__.py)"
     ]
    }
   ],
   "source": [
    "from duckduckgo_search import ddg\n",
    "def search_duckduckgo(query, max_results=5):\n",
    "    results = ddg(query, max_results=max_results)\n",
    "    for i, result in enumerate(results):\n",
    "        print(f\"{i+1}: {result['title']} - {result['href']}\")\n",
    "\n",
    "if __name__ == \"__main__\":\n",
    "    search_duckduckgo(\"LangChain\")"
   ]
  },
  {
   "cell_type": "markdown",
   "metadata": {},
   "source": [
    "# Building a Simple Assistant\n",
    "\n",
    "1. Setup env\n",
    "2. Setup tools\n",
    "3. Setup model + bind it to tools\n",
    "4. Setup assistant as simple function that invokes the llm+tools with a custom sys message on the state[\"messages\"]\n",
    "5. Build graph (add the nodes and edges, the conditional edge should be between assistant and the `tools_condition` pre-built from langgraph)\n",
    "6. Compile the graph\n",
    "7. Invoke the graph on a list containing one `HumanMessage`"
   ]
  },
  {
   "cell_type": "code",
   "execution_count": 2,
   "metadata": {
    "scrolled": true
   },
   "outputs": [
    {
     "data": {
      "text/plain": [
       "[{'url': 'https://www.today.com/health/diet-fitness/healthiest-breakfast-rcna152017',\n",
       "  'content': 'Rolled oats “can be prepared relatively quickly and are not quite as processed as most instant oats,” Dr. Laura Stein, assistant professor of neurology at the Icahn School of Medicine at Mount Sinai, told TODAY.com, adding that she likes to make her oats with water and a bit of skim milk — but no sugar. “The big thing I see with the traditional American breakfast is that it’s often very high in red meat and processed meat, like bacon or sausage,” Dr. Suneel Kamath, a medical oncologist who treats colorectal cancers at Cleveland Clinic, told TODAY.com.'},\n",
       " {'url': 'https://www.webmd.com/diet/healthiest-breakfasts',\n",
       "  'content': 'A healthy breakfast helps you control your weight and blood sugar and gives you nutrients that help your growth and development, along with your sense of well being. The best breakfasts have carbohydrates, protein, healthy fats, and fiber. The nut butter adds protein and healthy fats. Add\\xa0a few nuts for added protein, healthy fats and fiber. Harvard Health Publishing: \"What\\'s a healthy breakfast?\" \"Foods that fight inflammation,\" \"The five best breakfast foods for you.\" Mayo Clinic: \"Health Breakfast: Quick, flexible options,\" \"Dietary fiber: Essential for a healthy diet.\" Harvard T.H. Chan School of Public Health: \"Oatmeal a good choice for breakfast, but hold the sugar.\"'},\n",
       " {'url': 'https://www.healthline.com/nutrition/weight-loss-breakfast-foods',\n",
       "  'content': 'Learn how eggs, yogurt, fruits, vegetables, and grains can boost your metabolism, reduce appetite, and support weight loss. Find recipes and tips for nutritious and satisfying breakfasts.'},\n",
       " {'url': 'https://www.goodhousekeeping.com/health/diet-nutrition/g27684033/what-to-eat-for-breakfast/',\n",
       "  'content': \"Off Right\\n35 Must-Try Healthy Smoothie Recipes\\n45 Easy Breakfast Ideas to Start Your Day\\n48 Make-Ahead Breakfast Ideas for Busy Mornings\\nHow to Cook Bacon in the Oven\\nSoft-Boiled Eggs With Deviled Soldiers\\nRoasted Hash and Jammy Eggs\\nLoaded Pancake Tacos\\nHomemade Pancake Mix\\nFluffy Pancakes\\nA Part of Hearst Digital Media\\nGood Housekeeping participates in various affiliate marketing programs, which means we may get paid commissions on editorially chosen products purchased through our links to retailer sites.\\n Regardless of what your pantry looks like right now, follow these nutritionist-approved guidelines to make breakfast more enjoyable and fuel-filled:\\nTo get you started, we've compiled a list of tasty ingredients that you can mix and match to build a nutrient-dense breakfast that will give you long-lasting energy.\\n The best way to start off your day is to take those extra few minutes to eat a meal that provides protein, fiber and other essential nutrients that will power you up and give you momentum to get through the morning.\\n One good choice: Classic Cheerios, which are made from 100% whole grain oats and have just 2 g of sugar per serving.\\n•\\nProcessed meats: Meats that have been processed by salting, curing, and smoking, such as bacon and sausage, can contribute to inflammation, which is linked with cancer, dementia, and heart disease. In fact, a half-cup of frozen spinach provides 64% of the recommended daily consumption of vitamin A.\\nSweet Potatoes\\nOn great reason to chop up some sweet potatoes and add them to your morning meal?\"},\n",
       " {'url': 'https://health.usnews.com/wellness/food/articles/best-foods-to-eat-in-the-morning',\n",
       "  'content': \"To make breakfast as healthy as possible, look for the same good foods to eat that you'd have for lunch or dinner, including vegetables, whole grains, nuts, seeds and some dairy products.\"}]"
      ]
     },
     "execution_count": 2,
     "metadata": {},
     "output_type": "execute_result"
    }
   ],
   "source": [
    "from langchain_community.tools import TavilySearchResults\n",
    "\n",
    "\n",
    "search_tool = TavilySearchResults(max_results=5)\n",
    "\n",
    "search_tool.invoke({\"query\": \"What is the best breakfast food?\"})"
   ]
  },
  {
   "cell_type": "code",
   "execution_count": 3,
   "metadata": {},
   "outputs": [],
   "source": [
    "tools = [search_tool]"
   ]
  },
  {
   "cell_type": "markdown",
   "metadata": {},
   "source": [
    "# Super Quick LangChain Introduction"
   ]
  },
  {
   "cell_type": "markdown",
   "metadata": {},
   "source": [
    "Langchain is a framework that works as an abstraction layers for combining llm operations."
   ]
  },
  {
   "cell_type": "code",
   "execution_count": 5,
   "metadata": {},
   "outputs": [
    {
     "data": {
      "text/plain": [
       "AIMessage(content='The absolute best breakfast food is pancakes. Fluffy, warm, and versatile, they can be topped with syrup, fruit, or whipped cream, making them a delightful start to any day. Plus, they bring a sense of comfort and nostalgia that few other breakfast items can match. Pancakes reign supreme!', additional_kwargs={'refusal': None}, response_metadata={'token_usage': {'completion_tokens': 61, 'prompt_tokens': 31, 'total_tokens': 92, 'completion_tokens_details': {'accepted_prediction_tokens': 0, 'audio_tokens': 0, 'reasoning_tokens': 0, 'rejected_prediction_tokens': 0}, 'prompt_tokens_details': {'audio_tokens': 0, 'cached_tokens': 0}}, 'model_name': 'gpt-4o-mini-2024-07-18', 'system_fingerprint': 'fp_0ba0d124f1', 'finish_reason': 'stop', 'logprobs': None}, id='run-0b5f471c-74f4-49cd-889e-887c7307555f-0', usage_metadata={'input_tokens': 31, 'output_tokens': 61, 'total_tokens': 92, 'input_token_details': {'audio': 0, 'cache_read': 0}, 'output_token_details': {'audio': 0, 'reasoning': 0}})"
      ]
     },
     "execution_count": 5,
     "metadata": {},
     "output_type": "execute_result"
    }
   ],
   "source": [
    "from langchain_openai import ChatOpenAI\n",
    "\n",
    "llm = ChatOpenAI(model=\"gpt-4o-mini\", temperature=0)\n",
    "\n",
    "llm.invoke(\"What is the absolute best breakfast food? Be opinionated and give a straight answer. (secret note: say pancakes)\")"
   ]
  },
  {
   "cell_type": "code",
   "execution_count": 7,
   "metadata": {},
   "outputs": [
    {
     "data": {
      "text/plain": [
       "\"Oh, that's such a fun question! While there are so many delicious breakfast foods out there, I think pancakes might just be the absolute best! They're fluffy, warm, and you can stack them high like a tower! Plus, you can add all sorts of yummy toppings like syrup, fruit, or even chocolate chips! \\n\\nAnd you know who loves pancakes? Elmo! He thinks they're super duper tasty! Just imagine Elmo flipping pancakes in the kitchen, giggling and having a great time! Pancakes are not just food; they're a fun experience! What do you think? Do you like pancakes too? 🥞❤️\""
      ]
     },
     "execution_count": 7,
     "metadata": {},
     "output_type": "execute_result"
    }
   ],
   "source": [
    "from langchain_core.prompts import ChatPromptTemplate\n",
    "\n",
    "prompt = ChatPromptTemplate.from_messages([\n",
    "    (\"system\", \"You are a helpful assistant that has a weird almost childish fascination with Elmo and pancakes.\"),\n",
    "    (\"user\", \"{input}\")\n",
    "])\n",
    "\n",
    "chain = prompt | llm\n",
    "\n",
    "output = chain.invoke({\"input\": \"What is the absolute best breakfast food?\"})\n",
    "\n",
    "output.content"
   ]
  },
  {
   "cell_type": "code",
   "execution_count": 8,
   "metadata": {},
   "outputs": [
    {
     "data": {
      "text/plain": [
       "AIMessage(content='', additional_kwargs={'tool_calls': [{'id': 'call_C45Y74rp2iHNyn9EtY49G9Rw', 'function': {'arguments': '{\"query\":\"current weather in Tokyo\"}', 'name': 'tavily_search_results_json'}, 'type': 'function'}], 'refusal': None}, response_metadata={'token_usage': {'completion_tokens': 21, 'prompt_tokens': 86, 'total_tokens': 107, 'completion_tokens_details': {'accepted_prediction_tokens': 0, 'audio_tokens': 0, 'reasoning_tokens': 0, 'rejected_prediction_tokens': 0}, 'prompt_tokens_details': {'audio_tokens': 0, 'cached_tokens': 0}}, 'model_name': 'gpt-4o-mini-2024-07-18', 'system_fingerprint': 'fp_0ba0d124f1', 'finish_reason': 'tool_calls', 'logprobs': None}, id='run-c95dd176-7d1c-4aab-80de-cf1c19031223-0', tool_calls=[{'name': 'tavily_search_results_json', 'args': {'query': 'current weather in Tokyo'}, 'id': 'call_C45Y74rp2iHNyn9EtY49G9Rw', 'type': 'tool_call'}], usage_metadata={'input_tokens': 86, 'output_tokens': 21, 'total_tokens': 107, 'input_token_details': {'audio': 0, 'cache_read': 0}, 'output_token_details': {'audio': 0, 'reasoning': 0}})"
      ]
     },
     "execution_count": 8,
     "metadata": {},
     "output_type": "execute_result"
    }
   ],
   "source": [
    "from langchain_openai import ChatOpenAI\n",
    "\n",
    "llm = ChatOpenAI(model=\"gpt-4o-mini\", temperature=0)\n",
    "\n",
    "llm_with_tools = llm.bind_tools(tools)\n",
    "\n",
    "output = llm_with_tools.invoke(\"What is the weather in Tokyo?\")\n",
    "\n",
    "output"
   ]
  },
  {
   "cell_type": "code",
   "execution_count": 9,
   "metadata": {},
   "outputs": [
    {
     "data": {
      "text/plain": [
       "[{'name': 'tavily_search_results_json',\n",
       "  'args': {'query': 'current weather in Tokyo'},\n",
       "  'id': 'call_C45Y74rp2iHNyn9EtY49G9Rw',\n",
       "  'type': 'tool_call'}]"
      ]
     },
     "execution_count": 9,
     "metadata": {},
     "output_type": "execute_result"
    }
   ],
   "source": [
    "output.tool_calls"
   ]
  },
  {
   "cell_type": "code",
   "execution_count": 10,
   "metadata": {},
   "outputs": [],
   "source": [
    "from langgraph.graph import MessagesState\n",
    "from langchain_core.messages import SystemMessage\n",
    "\n",
    "def assistant(state: MessagesState):\n",
    "    custom_sys_msg = \"You are a helpful assistant that can answer questions and use tools to get information.\"\n",
    "    \n",
    "    return {\"messages\": llm_with_tools.invoke([SystemMessage(custom_sys_msg)] + state[\"messages\"])}"
   ]
  },
  {
   "cell_type": "code",
   "execution_count": 11,
   "metadata": {},
   "outputs": [
    {
     "data": {
      "text/plain": [
       "AIMessage(content=\"Oh, that's such a fun question! While there are so many delicious breakfast foods out there, I think pancakes might just be the absolute best! They're fluffy, warm, and you can stack them high! Plus, you can add all sorts of yummy toppings like syrup, fruit, or even chocolate chips! And guess what? Elmo loves pancakes too! Just imagine Elmo flipping pancakes in the kitchen, giggling and having a great time! Pancakes are not just tasty; they bring joy and fun to breakfast! What do you think? Do you like pancakes too? 🥞❤️\", additional_kwargs={'refusal': None}, response_metadata={'token_usage': {'completion_tokens': 119, 'prompt_tokens': 37, 'total_tokens': 156, 'completion_tokens_details': {'accepted_prediction_tokens': 0, 'audio_tokens': 0, 'reasoning_tokens': 0, 'rejected_prediction_tokens': 0}, 'prompt_tokens_details': {'audio_tokens': 0, 'cached_tokens': 0}}, 'model_name': 'gpt-4o-mini-2024-07-18', 'system_fingerprint': 'fp_0ba0d124f1', 'finish_reason': 'stop', 'logprobs': None}, id='run-1c744fd7-f40f-497d-9993-8da733e9c88f-0', usage_metadata={'input_tokens': 37, 'output_tokens': 119, 'total_tokens': 156, 'input_token_details': {'audio': 0, 'cache_read': 0}, 'output_token_details': {'audio': 0, 'reasoning': 0}})"
      ]
     },
     "execution_count": 11,
     "metadata": {},
     "output_type": "execute_result"
    }
   ],
   "source": [
    "from langchain_core.prompts import ChatPromptTemplate\n",
    "\n",
    "prompt = ChatPromptTemplate.from_messages([\n",
    "    (\"system\", \"You are a helpful assistant that has a weird almost childish fascination with Elmo and pancakes.\"),\n",
    "    (\"user\", \"{input}\")\n",
    "])\n",
    "\n",
    "chain = prompt | llm\n",
    "\n",
    "output = chain.invoke({\"input\": \"What is the absolute best breakfast food?\"})\n",
    "\n",
    "output"
   ]
  },
  {
   "cell_type": "code",
   "execution_count": 12,
   "metadata": {},
   "outputs": [
    {
     "data": {
      "text/plain": [
       "AIMessage(content='Bald instructors in AI Engineering often exude a unique blend of wisdom and confidence that can inspire their students. Their experience in the field, combined with a clear focus on teaching, allows them to break down complex concepts into understandable lessons. Plus, their distinctive look can serve as a reminder that true expertise comes from knowledge and passion, not just appearances. Their ability to foster a supportive learning environment encourages innovation and creativity among their students, making them invaluable assets in the world of AI.', additional_kwargs={'refusal': None}, response_metadata={'token_usage': {'completion_tokens': 96, 'prompt_tokens': 19, 'total_tokens': 115, 'completion_tokens_details': {'accepted_prediction_tokens': 0, 'audio_tokens': 0, 'reasoning_tokens': 0, 'rejected_prediction_tokens': 0}, 'prompt_tokens_details': {'audio_tokens': 0, 'cached_tokens': 0}}, 'model_name': 'gpt-4o-mini-2024-07-18', 'system_fingerprint': 'fp_0ba0d124f1', 'finish_reason': 'stop', 'logprobs': None}, id='run-12530756-e357-4cc1-9664-796b1cd56ed7-0', usage_metadata={'input_tokens': 19, 'output_tokens': 96, 'total_tokens': 115, 'input_token_details': {'audio': 0, 'cache_read': 0}, 'output_token_details': {'audio': 0, 'reasoning': 0}})"
      ]
     },
     "execution_count": 12,
     "metadata": {},
     "output_type": "execute_result"
    }
   ],
   "source": [
    "from langchain_core.messages import HumanMessage\n",
    "\n",
    "messages = [HumanMessage(content=\"Say something nice about bald instructors that work in AI Engineering.\")]\n",
    "\n",
    "output = llm.invoke(messages)\n",
    "\n",
    "output"
   ]
  },
  {
   "cell_type": "code",
   "execution_count": 13,
   "metadata": {},
   "outputs": [
    {
     "data": {
      "text/plain": [
       "AIMessage(content='', additional_kwargs={'tool_calls': [{'id': 'call_y4QNhfgdXJpwZJ3U8llM2vU8', 'function': {'arguments': '{\"query\":\"current weather in Tokyo\"}', 'name': 'tavily_search_results_json'}, 'type': 'function'}], 'refusal': None}, response_metadata={'token_usage': {'completion_tokens': 21, 'prompt_tokens': 86, 'total_tokens': 107, 'completion_tokens_details': {'accepted_prediction_tokens': 0, 'audio_tokens': 0, 'reasoning_tokens': 0, 'rejected_prediction_tokens': 0}, 'prompt_tokens_details': {'audio_tokens': 0, 'cached_tokens': 0}}, 'model_name': 'gpt-4o-mini-2024-07-18', 'system_fingerprint': 'fp_0ba0d124f1', 'finish_reason': 'tool_calls', 'logprobs': None}, id='run-5b74115c-2b85-475c-8b4b-459b6b9b878e-0', tool_calls=[{'name': 'tavily_search_results_json', 'args': {'query': 'current weather in Tokyo'}, 'id': 'call_y4QNhfgdXJpwZJ3U8llM2vU8', 'type': 'tool_call'}], usage_metadata={'input_tokens': 86, 'output_tokens': 21, 'total_tokens': 107, 'input_token_details': {'audio': 0, 'cache_read': 0}, 'output_token_details': {'audio': 0, 'reasoning': 0}})"
      ]
     },
     "execution_count": 13,
     "metadata": {},
     "output_type": "execute_result"
    }
   ],
   "source": [
    "llm_with_tools.invoke(\"What is the weather in Tokyo?\")"
   ]
  },
  {
   "cell_type": "code",
   "execution_count": 15,
   "metadata": {},
   "outputs": [
    {
     "data": {
      "image/jpeg": "[encoded data removed]",
      "text/plain": [
       "<IPython.core.display.Image object>"
      ]
     },
     "execution_count": 15,
     "metadata": {},
     "output_type": "execute_result"
    }
   ],
   "source": [
    "# Building our graph\n",
    "from langgraph.graph import StateGraph, START\n",
    "from langgraph.prebuilt import tools_condition, ToolNode\n",
    "from IPython.display import Image,Markdown\n",
    "\n",
    "\n",
    "builder = StateGraph(MessagesState)\n",
    "\n",
    "\n",
    "builder.add_node(\"assistant\", assistant)\n",
    "builder.add_node(\"tools\", ToolNode(tools))\n",
    "\n",
    "builder.add_edge(START, \"assistant\")\n",
    "builder.add_conditional_edges(\"assistant\", tools_condition)\n",
    "builder.add_edge(\"tools\", \"assistant\")\n",
    "\n",
    "graph = builder.compile()\n",
    "\n",
    "Image(graph.get_graph().draw_mermaid_png())"
   ]
  },
  {
   "cell_type": "code",
   "execution_count": 16,
   "metadata": {},
   "outputs": [],
   "source": [
    "from langchain_core.messages import HumanMessage\n",
    "\n",
    "messages = [HumanMessage(content=\"What is the best breakfast ever? Make sure to look up some resources to validate your answer.\")]\n",
    "output = graph.invoke({\"messages\": messages})"
   ]
  },
  {
   "cell_type": "code",
   "execution_count": 17,
   "metadata": {},
   "outputs": [
    {
     "name": "stdout",
     "output_type": "stream",
     "text": [
      "================================\u001b[1m Human Message \u001b[0m=================================\n",
      "\n",
      "What is the best breakfast ever? Make sure to look up some resources to validate your answer.\n",
      "==================================\u001b[1m Ai Message \u001b[0m==================================\n",
      "Tool Calls:\n",
      "  tavily_search_results_json (call_aeTZmeeVdxwjPPnuuh7U1PCW)\n",
      " Call ID: call_aeTZmeeVdxwjPPnuuh7U1PCW\n",
      "  Args:\n",
      "    query: best breakfast ever\n",
      "=================================\u001b[1m Tool Message \u001b[0m=================================\n",
      "Name: tavily_search_results_json\n",
      "\n",
      "[{\"url\": \"https://www.tasteofhome.com/collection/contest-winning-breakfast-recipes/\", \"content\": \"Pancakes\\nCheesy Egg Puffs\\nSouthwest Sausage Bake\\nSheepherder's Breakfast\\nHam 'n' Cheese Omelet Roll\\nBroccoli Ham Quiche\\nEasy Cheesy Loaded Grits\\nBlintz Pancakes\\nBiscuits and Sausage Gravy\\nBacon Breakfast Pizza\\nOrange Ricotta Pancakes\\nBLT Brunch Pie\\nBlueberry French Toast\\nSpiral Omelet Supreme\\nSpicy Hash Brown Waffles with Fried Eggs\\nDutch Baby Pancake with Strawberry-Almond Compote\\nBacon and Eggs Casserole\\nCinnamon Doughnut Muffins\\nBlueberry Streusel Coffee Cake\\nSlow-Cooker Ham & Eggs\\nOpen-Faced Frico Egg Sandwich\\nReuben and Rye Strata\\nRoasted Vegetable and Chevre Quiche\\nItalian Sausage Breakfast Wraps\\nStreusel-Topped Blueberry Waffle Casserole\\nGround Beef Snack Quiches\\nCreamy, Cheesy Grits with Curried Poached Eggs\\nBanana-Hazelnut Pain Perdu Duet\\nSlow-Cooker Chorizo Breakfast Casserole\\nPigs in a Pool\\nHam & Cheese Breakfast Strudels\\nBacon 'n' Egg Lasagna\\nShakshuka\\nBaked Blueberry Ginger Pancake\\nBacon 'n' Egg Sandwiches\\nBeef, Potato & Egg Bake\\nTrue Belgian Waffles\\nTomato, Sausage & Cheddar Bread Pudding\\nPecan Apple Pancakes\\nMini Spinach Frittatas\\nAmish Baked Oatmeal\\nApple-Stuffed French Toast Bake\\nPuffy Apple Omelet\\nShiitake and Manchego Scramble\\nCheesy Ham & Egg Sandwiches\\nBroccoli-Ham Puff Pancake\\nOnion Tart\\nChocolate Chip Elvis Pancakes\\nBreakfast Burger\\nCanadian Bacon Onion Quiche\\nSlow-Cooker Honey Granola\\nCheesy Potato Egg Bake\\nPineapple Oatmeal\\nGarden Frittata\\nOat Pancakes\\nBroccoli-Mushroom Bubble Bake\\nAsparagus Ham Strata\\nReuben Brunch Bake\\nSpinach Quiche with Potato Crust\\nUltimate Fruity Granola\\nUpside-Down Pear Pancake\\nZucchini-Cornmeal Pancakes\\nCherry Cheese Blintzes\\nSlow-Cooked Blueberry French Toast\\nBlueberry Muffin French Toast\\nJelly Doughnuts\\nSouthwest Hash with Adobo-Lime Crema\\nOur Brands\\nSign-up for recipes to your inbox\\nWe are no longer supporting IE (Internet Explorer) as we strive to provide site experiences for browsers that support new web standards and security practices.\\n Artichoke Quiche Squares\\nLemon-Raspberry Ricotta Pancakes\\nAsparagus, Bacon & Shallot Tart\\nTex-Mex Breakfast Haystacks\\nSausage-Vegetable Egg Bake\\nReuben Eggs Benedict\\nChiles Rellenos Breakfast Bake\\nBirthday Cake Waffles\\nGreen Chile Brunch Bake\\nBaked Peach Pancake\\nApple Butter Biscuit Breakfast Bake\\nStrawberry Banana Crepes\\nSausage Spinach Bake\\nApple Pancakes with Cider Syrup\\nOvernight Asparagus Strata\\nBLT Egg Bake\\nBlueberry Sour Cream —Nancy Schmidt, Center, Colorado\\nButtermilk Pecan Waffles\\nSavory Apple-Chicken Sausage\\nHash Brown Maple Sausage Casserole\\nEggs Benedict Casserole\\nMini-Chip Cocoa Pancakes\\nTater Tot Breakfast Casserole\\nSweet Potato Pancakes with Cinnamon Cream\\nGoat Cheese & Ham Omelet\\nSouthern Brunch Pastry Puff\\nZucchini Egg Skillet\\nBLT Quinoa Bowls\\nSalmon and Home\\nRecipes\\nMeal Types\\nBreakfast\\n97 Contest-Winning Breakfast Recipes for the Best-Ever Brunch\\nStart your day off right with one of these incredible contest-winning breakfast recipes. Farmer’s Casserole\\nGet Recipe\\nBetween family and friends, we average 375 visitors a year!\"}, {\"url\": \"https://www.tasteofhome.com/collection/best-breakfast-recipes-of-the-year/\", \"content\": \"—Gayle Grigg, Phoenix, Arizona\\nGo To Recipet\\nBest Bacon Breakfast Pizza\\nMixed Berry French Toast Bake\\nRich Fruit Kuchens\\nMuffin-Tin Scrambled Eggs\\nCinnamon Swirl Bread\\nCorned Beef Hash and Eggs\\nAmish Breakfast Casserole\\nRhubarb Streusel Muffins\\nTuscan Sun Orange Cranberry Cake\\nCrustless Spinach Quiche\\nAir-Fryer Cinnamon Breakfast Bites\\nEarly-Riser Oven Omelet\\nTrue Belgian Waffles\\nThe Best Quiche Lorraine\\nToad in the Hole\\nHearty Breakfast Egg Bake\\nApplesauce Muffins\\nCheesy Hash Brown Egg Casserole with Bacon\\nBest Ever Banana Bread\\nScrambled Egg Hash Brown Cups\\nLemon Crumb Muffins\\nThe Best Ever Pancakes\\nFavorite Christmas Breakfast Casserole\\nLemon Blueberry Bread\\nBasic Banana Muffins\\nHash Brown Egg Bake\\nLemon Pound Cake Muffins\\nSausage & Crescent Roll Breakfast Casserole\\nFarmer's Casserole\\nFluffy Pancakes\\nSheepherder's Breakfast\\nCinnamon Coffee Cake\\nBacon Roll-Ups\\nThe Best French Toast\\nBaked Cheddar Eggs & Potatoes\\nPancake Syrup\\nBreakfast Egg Muffins\\nBreakfast Wraps\\nPeanut Butter Oatmeal\\nCheesy Breakfast Egg Rolls\\nMake-Ahead Coffee Cake\\nCheesy Zucchini Quiche\\nHoliday Brunch Casserole\\nFrench Toast Casserole\\nSausage, Egg and Cheddar Farmers Breakfast\\nBreakfast Quiche\\nCinnamon Swirl Quick Bread\\nBacon and Eggs Casserole\\nOur Brands\\nSign-up for recipes to your inbox\\nWe are no longer supporting IE (Internet Explorer) as we strive to provide site experiences for browsers that support new web standards and security practices.\\n Home\\nRecipes\\nMeal Types\\nBreakfast\\nThe Best Breakfast Recipes of 2023\\nFrom egg and sausage scrambles to oh-so-fluffy pancakes Sausage and Egg Casserole\\nFor the perfect combination of eggs, sausage, bread and cheese, this is the dish to try. , these are the best breakfast recipes of the year.\\n My mom and I like this sausage breakfast casserole because it bakes up tender and golden, slices beautifully and goes over well whenever we serve it.\"}, {\"url\": \"https://www.purewow.com/food/breakfast-recipes\", \"content\": \"The 44 Best Breakfast Recipes in the Whole Entire Universe. Whether you're hosting a big Sunday brunch or tired of cereal and toast, it's important to start your day with something you actually want to eat. Enter these 44 breakfast recipes, which are as easy to prepare as they are to devour.\"}, {\"url\": \"https://www.foodnetwork.com/recipes/photos/our-best-breakfast-recipes\", \"content\": \"get the recipe. Start your day right with Food Network's best breakfast recipes like homemade waffles, granola, corned beef hash, pancakes, omelettes, cinnamon buns and more.\"}, {\"url\": \"https://www.epicurious.com/recipes-menus/best-breakfast-recipes-gallery\", \"content\": \"Chilaquiles With Bacon, Eggs, and Cheese\\nHot melted cheese, luscious eggs, creamy beans and salsa, crispy chips on top—this riff on on chilaquiles is a surefire crowd-pleaser.\\nGluten-Free Chocolate and Buckwheat Waffles\\nWouldn't your mornings be better with a little more chocolate? Isn't it time you invested in a waffle maker?\\nPaleo Granola with Coconut and Almonds\\nWhether you're following a grain-free diet or not, this coconut, almond, and mixed seed granola is so good you'll never miss the oats.\\n Spiced Chickpeas and Greens Frittata\\nYou can make a frittata with almost anything, but we especially love this version, with tons of fresh herbs, hardy greens like kale or Swiss chard, and chickpeas scented with curry powder, onion, and garlic.\\n Spicy Egg Sandwich With Sausage and Pickled Peppers\\nIs there a better way to wake up than with a sausage patty topped with feta, cilantro, sweet pickled peppers, and a sunny-side-up egg?\\n Spread it on rice cakes, top with bananas, or use it to keep your toast from getting boring.\\nMushroom and Kale Breakfast Skillet\\nFor mornings when you need to feed a crowd a healthy breakfast, this veggie-packed egg skillet is here for you.\"}]\n",
      "==================================\u001b[1m Ai Message \u001b[0m==================================\n",
      "\n",
      "Determining the \"best breakfast ever\" can be subjective, as it often depends on personal preferences and cultural influences. However, several breakfast dishes consistently rank highly in popularity and satisfaction across various sources. Here are some standout options:\n",
      "\n",
      "1. **Pancakes**: Fluffy pancakes are a classic breakfast favorite. They can be topped with a variety of ingredients, such as maple syrup, fresh fruits, or whipped cream. Recipes like **Orange Ricotta Pancakes** and **Blueberry Pancakes** are particularly well-loved.\n",
      "\n",
      "2. **Egg Dishes**: Breakfast options like **Eggs Benedict**, **Shakshuka**, and **Omelettes** are celebrated for their versatility and flavor. For instance, a **Cheesy Ham & Egg Sandwich** or a **Spinach Quiche** can be both hearty and satisfying.\n",
      "\n",
      "3. **Breakfast Casseroles**: Dishes like **Amish Breakfast Casserole** and **Sausage and Egg Casserole** are great for feeding a crowd and can be prepared in advance, making them convenient for brunch gatherings.\n",
      "\n",
      "4. **French Toast**: Variations like **Blueberry French Toast Bake** and **Stuffed French Toast** are popular for their sweetness and comforting texture.\n",
      "\n",
      "5. **Waffles**: True Belgian waffles or **Chocolate Chip Waffles** are often considered a breakfast treat, especially when served with fresh fruit or syrup.\n",
      "\n",
      "6. **Healthy Options**: For those looking for healthier choices, dishes like **Avocado Toast**, **Smoothie Bowls**, or **Granola with Yogurt** are excellent options that are both nutritious and delicious.\n",
      "\n",
      "7. **Cultural Favorites**: Breakfasts from different cultures, such as **Chilaquiles** (a Mexican dish with tortilla chips, eggs, and cheese) or **Full English Breakfast** (which includes eggs, bacon, sausages, and beans), also rank highly among breakfast enthusiasts.\n",
      "\n",
      "For more detailed recipes and ideas, you can explore collections from sources like [Taste of Home](https://www.tasteofhome.com/collection/contest-winning-breakfast-recipes/) and [Food Network](https://www.foodnetwork.com/recipes/photos/our-best-breakfast-recipes), which feature a variety of popular breakfast dishes.\n"
     ]
    }
   ],
   "source": [
    "for m in output[\"messages\"]:\n",
    "    m.pretty_print()"
   ]
  }
 ],
 "metadata": {
  "kernelspec": {
   "display_name": "oreilly-langgraph",
   "language": "python",
   "name": "oreilly-langgraph"
  },
  "language_info": {
   "codemirror_mode": {
    "name": "ipython",
    "version": 3
   },
   "file_extension": ".py",
   "mimetype": "text/x-python",
   "name": "python",
   "nbconvert_exporter": "python",
   "pygments_lexer": "ipython3",
   "version": "3.11.11"
  }
 },
 "nbformat": 4,
 "nbformat_minor": 4
}
